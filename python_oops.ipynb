{
  "nbformat": 4,
  "nbformat_minor": 0,
  "metadata": {
    "colab": {
      "provenance": []
    },
    "kernelspec": {
      "name": "python3",
      "display_name": "Python 3"
    },
    "language_info": {
      "name": "python"
    }
  },
  "cells": [
    {
      "cell_type": "markdown",
      "source": [
        "# What is Object-Oriented Programming (OOP)?\n",
        "\n",
        "> Object-oriented programming (OOP) is a programming paradigm that uses \"objects\", which contain data and methods (functions), to design applications and computer programs. It's a way of organizing code that mirrors real-world entities and their interactions, promoting modularity, reusability, and easier maintenance.\n",
        "Key Concepts of OOP:\n",
        "Objects:\n",
        "Fundamental building blocks of OOP, representing real-world entities with attributes (data) and behaviors (methods).\n",
        "Classes:\n",
        "Blueprints or templates for creating objects. They define the structure and behavior that objects of that class will have.\n",
        "Encapsulation:\n",
        "Bundling the data (attributes) and methods that operate on that data within a single unit (object), hiding internal implementation details and controlling access from outside.\n",
        "Abstraction:Presenting essential features of an object while hiding unnecessary details, simplifying interaction with the object.\n",
        "Inheritance:\n",
        "Allows a class to inherit properties and methods from another class, promoting code reuse and establishing relationships between classes.\n",
        "Polymorphism:\n",
        "Enables objects of different classes to be treated as objects of a common type, allowing for flexible and dynamic behavior.\n",
        "Benefits of OOP:\n",
        "Modularity:\n",
        "Code is organized into reusable components (objects), making it easier to manage and maintain large projects.\n",
        "Reusability:\n",
        "Objects can be reused in different parts of the program or even in different programs, saving development time and effort.\n"
      ],
      "metadata": {
        "id": "6GGPt8kLVoVP"
      }
    },
    {
      "cell_type": "markdown",
      "source": [
        "# What is a class in OOP\n",
        "\n",
        "> In Object-Oriented Programming (OOP), a class is a blueprint or template for creating objects. It defines the structure and behavior that objects will have, but it doesn't occupy memory itself until an object is created from it."
      ],
      "metadata": {
        "id": "PQAxdVwOWYhk"
      }
    },
    {
      "cell_type": "markdown",
      "source": [
        "# What is an object in OOP\n",
        "\n",
        "> In Object-Oriented Programming (OOP), an object is a fundamental unit that represents a specific instance of a class. It encapsulates both data (attributes) and functionality (methods) that define its behavior. Objects are created from classes, which act as blueprints or templates.\n"
      ],
      "metadata": {
        "id": "vOgA7cjXWxiO"
      }
    },
    {
      "cell_type": "markdown",
      "source": [
        "# What is the difference between abstraction and encapsulation\n",
        "\n",
        "> Abstraction:\n",
        "Focus:\n",
        "Hiding the complexity of code and exposing only the necessary functionalities.\n",
        "Goal:\n",
        "Simplify the interface for users/developers by presenting a high-level view of the system.\n",
        "Example:\n",
        "A car's steering wheel and pedals abstract the complex driving mechanisms; you don't need to know how the engine works to drive.\n",
        " > Encapsulation:\n",
        "Focus:\n",
        "Bundling data and methods that operate on the data within a single unit.\n",
        "Goal:\n",
        "Protect data integrity by restricting direct access to the internal details of an object.\n",
        "Example:\n",
        "The car engine's internal components are encapsulated, hidden under the hood, and accessed through controlled methods (like starting the car).\n",
        "Key Idea:\n",
        "Restricting access to the internal details of an object to prevent unintended modificatn or corruption of its state."
      ],
      "metadata": {
        "id": "xU1l5972XOUf"
      }
    },
    {
      "cell_type": "markdown",
      "source": [
        "# What are dunder methods in Python\n",
        "\n",
        "> Dunder methods, also known as magic methods, are special methods in Python that start and end with double underscores (e.g., __init__, __str__, __len__). They enable classes to define how they behave with Python's built-in operations and syntax.\n",
        "Here are some common dunder methods:\n",
        "__init__(self, ...): The constructor, called when an object is created.\n",
        "__str__(self): Called by the str() function and print() to provide a string representation of the object.\n",
        "__repr__(self): Called by the repr() function, and should return a string that can be used to recreate the object.\n",
        "__len__(self): Called by the len() function to return the length of the object.\n",
        "__getitem__(self, key): Called when an item is accessed using square brackets (e.g., obj[key]).\n",
        "__add__(self, other): Called when the + operator is used.\n",
        "__sub__(self, other): Called when the - operator is used.\n",
        "__eq__(self, other): Called when the == operator is used.\n",
        "__lt__(self, other): Called when the < operator is used.\n"
      ],
      "metadata": {
        "id": "yJuVi8dJXyBX"
      }
    },
    {
      "cell_type": "markdown",
      "source": [
        "# Explain the concept of inheritance in OOP\n",
        "\n",
        "\n",
        "> Inheritance in Object-Oriented Programming (OOP) is a mechanism where a new class (subclass or derived class) inherits attributes and methods from an existing class (parent class or superclass). This allows for code reusability and establishes a \"is-a\" relationship between classes, such as a \"Dog is-a Animal.\"\n",
        "Here's a more detailed explanation:\n",
        "Core Concept:\n",
        "Reusability:\n",
        "Inheritance promotes code reuse by allowing subclasses to inherit properties and behaviors from their parent classes. This avoids redundant code and makes development more efficient.\n",
        "\"Is-a\" Relationship:\n",
        "Inheritance represents a hierarchical relationship, where a subclass is a specialized version of its parent class. For example, a Car is-a Vehicle.\n",
        "Class Hierarchy:\n",
        "Inheritance creates a class hierarchy where subclasses inherit from a superclass, which can then inherit from its own superclass, and so on, creating a tree-like structure.\n",
        "Key Terms:\n",
        "Parent Class (Superclass): The class that provides the base functionality and characteristics that are inherited.\n",
        "Child Class (Subclass): The class that inherits from a parent class.\n",
        "Inheritance: The mechanism by which a subclass inherits from its parent class.\n",
        "Example:\n",
        "Imagine a class Animal with properties like name and age, and methods like eat() and sleep(). A subclass Dog could inherit these properties and methods from Animal and also add its own specific properties and methods (e.g., bark()).\n",
        "Benefits of Inheritance:\n",
        "Code Reusability:\n",
        "Avoids duplicating code by inheriting common functionality from parent classes.\n"
      ],
      "metadata": {
        "id": "CEfjCbx3ZKC4"
      }
    },
    {
      "cell_type": "markdown",
      "source": [
        "# What is polymorphism in OOP?\n",
        "\n",
        "> Polymorphism, meaning \"many forms\" in Greek, is a core concept in object-oriented programming (OOP) that allows objects of different classes to be treated as objects of a common superclass. It enables code reusability and flexibility by allowing multiple classes to implement the same method in different ways. This is achieved through inheritance and interface design, allowing methods with the same name in different classes to perform distinct tasks"
      ],
      "metadata": {
        "id": "1LE08-iAZpjW"
      }
    },
    {
      "cell_type": "markdown",
      "source": [
        "# How is encapsulation achieved in Python\n",
        "\n",
        "> Encapsulation in Python is achieved by bundling data (attributes) and methods that operate on that data within a single unit called a class. It restricts direct access to some components, protecting the internal state from unwanted changes. Here's how it is implemented:\n"
      ],
      "metadata": {
        "id": "qkoV8N6DaTxJ"
      }
    },
    {
      "cell_type": "markdown",
      "source": [
        "#  What is a constructor in Python\n",
        "\n",
        "> A constructor in Python is a special method used to initialize objects of a class. It is automatically called when an object is created from a class. The primary purpose of a constructor is to set up the initial state of an object by assigning values to its attributes.\n",
        "The constructor in Python is defined using the __init__ method. This method can take parameters to receive initial values for the object's attributes, which are then assigned using self.attribute_name = value."
      ],
      "metadata": {
        "id": "mtAtpgC4az4B"
      }
    },
    {
      "cell_type": "markdown",
      "source": [
        "# What are class and static methods in Python\n",
        "\n",
        "> Class Methods:\n",
        "Class methods are bound to the class and not the instance of the class.\n",
        "They receive the class itself as the first argument, conventionally named cls.\n",
        "Class methods can access and modify class-level attributes.\n",
        "They are often used as factory methods to create instances of the class with specific configurations.\n",
        "They are defined using the @classmethod decorator.\n",
        "Static Methods:\n",
        "Static methods are also bound to the class and not the instance of the class.\n",
        "They do not receive the class or instance as an argument.\n",
        "Static methods cannot access or modify class-level or instance-level attributes directly.\n",
        "They are often used for utility functions that are related to the class but don't depend on the class state.\n",
        "They are defined using the @staticmethod decorator."
      ],
      "metadata": {
        "id": "UNfKH9PwbHf8"
      }
    },
    {
      "cell_type": "markdown",
      "source": [
        "#  What is method overloading in Python\n",
        "\n",
        "> Method overloading in Python refers to the ability to define multiple methods with the same name but with different parameters within a single class. This allows a method to perform different tasks based on the arguments passed to it.\n",
        "Although Python does not support traditional method overloading like Java or C++, it achieves similar results through techniques such as:\n",
        "Default Arguments:\n",
        "Defining default values for parameters allows a single method to handle calls with varying numbers of arguments.\n",
        "Variable-Length Arguments (\\*args and \\*\\*kwargs):\n",
        "Using \\*args allows a function to accept a variable number of positional arguments, while \\*\\*kwargs allows it to accept a variable number of keyword arguments.\n",
        "Conditional Logic:\n",
        "Implementing conditional statements within a method to handle different argument types or combinationas"
      ],
      "metadata": {
        "id": "37s9ujpvb2MQ"
      }
    },
    {
      "cell_type": "markdown",
      "source": [
        "# What is method overriding in OOP\n",
        "\n",
        "> In Object-Oriented Programming (OOP), method overriding allows a subclass to provide a specific implementation of a method that is already defined in its parent class (superclass). This enables polymorphism, meaning the object's type determines which method to execute. In essence, overriding lets a child class customize or extend the behavior inherited from its parent class.\n"
      ],
      "metadata": {
        "id": "DCSNDuXUcdbe"
      }
    },
    {
      "cell_type": "markdown",
      "source": [
        "# What is a property decorator in Python\n",
        "\n",
        "> A property decorator in Python is a built-in feature that allows you to define methods that act like attributes. It provides a way to manage how an attribute is accessed and modified. The @property decorator is used to implement managed attributes within classes"
      ],
      "metadata": {
        "id": "gpHRwK1McV46"
      }
    },
    {
      "cell_type": "markdown",
      "source": [
        "# Why is polymorphism important in OOP\n",
        "\n",
        "> Polymorphism in object-oriented programming is crucial because it allows for increased flexibility, code reusability, and maintainability. It enables a single interface to represent different underlying forms or implementations, making the code more adaptable and easier to extend.\n",
        "OOPs: Inheritance and Polymorphism | by Mukesh Chaudhary | Medium\n",
        "Here's a breakdown of the importance:\n",
        "Flexibility and Adaptability:\n",
        "Polymorphism allows objects of different classes to be treated as objects of a common type. This means you can write code that works with a general interface, and it will seamlessly adapt to different concrete implementations.\n",
        "Code Reusability:\n",
        "By using polymorphism, you can write code that can be reused with different classes that implement the same interface. This reduces redundancy and makes your code more efficient.\n",
        "Maintainability:\n",
        "Polymorphism simplifies code maintenance because changes in one class don't necessarily require changes in other parts of the code that use the polymorphic interface."
      ],
      "metadata": {
        "id": "LBrhOxoldYRl"
      }
    },
    {
      "cell_type": "markdown",
      "source": [
        "# What is an abstract class in Python\n",
        "\n",
        "> In Python, an abstract class is a class that cannot be instantiated directly. It serves as a blueprint for other classes, defining a common interface for a group of related classes. Abstract classes Abstract classes are designed to be inherited, and they may contain abstract methods.\n",
        "An abstract method is a method declared in an abstract class but does not have an implementation. Subclasses of the abstract class must provide concrete implementations for these abstract methods.\n",
        "To create an abstract class in Python, you need to use the abc module, which stands for Abstract Base Classes. The ABC class is used to define abstract classes, and the @abstractmethod decorator is used to define abstract methods."
      ],
      "metadata": {
        "id": "BN74WX_hdsyu"
      }
    },
    {
      "cell_type": "markdown",
      "source": [
        "# what are the advantages of OOP\n",
        "\n",
        "> Object-oriented programming (OOP) offers numerous advantages, including improved code organization, reusability, flexibility, and scalability. These features allow for modular, maintainable, and scalable software solutions. OOP also enhances productivity, simplifies debugging, and promotes collaboration by breaking down complex systems into smaller, manageable objects."
      ],
      "metadata": {
        "id": "ibuMYPg2fGlZ"
      }
    },
    {
      "cell_type": "markdown",
      "source": [
        "#  What is the difference between a class variable and an instance variable\n",
        "\n",
        "> Class Variable:\n",
        "Scope: Defined at the class level, accessible by all instances of the class.\n",
        "Shared: Only one copy of the class variable exists for the entire class, and it's shared among all objects.\n",
        "Access: Can be accessed using the class name or an object of the class.\n",
        "Example: A counter variable in a class to track the number of instances created.\n",
        "Instance Variable:\n",
        "Scope: Defined within a class, but associated with a specific instance (object).\n",
        "Unique: Each instance of the class has its own independent copy of the instance variable.\n",
        "Access: Can only be accessed through an object of the class.\n",
        "Example: A name or age attribute of a \"Person\" class, where each instance (Person object) has its own unique name and age"
      ],
      "metadata": {
        "id": "AaiHsA02fXGY"
      }
    },
    {
      "cell_type": "markdown",
      "source": [
        "# What is multiple inheritance in Python\n",
        "\n",
        "> Multiple inheritance in Python is a feature where a class can inherit attributes and methods from more than one parent class. This allows a subclass to combine functionalities from different sources, promoting code reusability and flexibility.\n"
      ],
      "metadata": {
        "id": "oe8deMCTfAo_"
      }
    },
    {
      "cell_type": "markdown",
      "source": [
        "# Explain the purpose of ‘’__str__’ and ‘__repr__’ ‘ methods in Python\n",
        "\n",
        "> __str__ Method\n",
        "The __str__ method is designed to return a human-readable, informal string representation of an object.\n",
        "It is primarily intended for end-users and is used when you call the str() function or print() an object.\n",
        "The goal of __str__ is to provide a clear and easily understandable description of the object's state.\n",
        "__repr__ Method\n",
        "The __repr__ method returns a more detailed, unambiguous, and formal string representation of an object.\n",
        "It is primarily intended for developers and debugging purposes.\n",
        "The goal of __repr__ is to provide a string that, when passed to eval(), could recreate the object. If that's not feasible, the string should at least be informative about the object's type and state.\n",
        "If a class does not define a __str__ method, Python will fall back to using the __repr__ method when str() or print() is called on an object.\n",
        "\n"
      ],
      "metadata": {
        "id": "T8kjxNCXkKAv"
      }
    },
    {
      "cell_type": "markdown",
      "source": [
        "# What is the significance of the ‘super()' function in Python\n",
        "\n",
        "> The super() function in Python is a built-in function that allows a subclass to access methods and properties of its parent class. This is particularly useful in the context of inheritance, where a subclass extends or modifies the behavior of its parent class.\n",
        "Here are some key aspects of the super() function:\n",
        "Accessing Parent Class Methods:\n",
        "super() allows a subclass to call methods defined in its parent class. This is useful when you want to extend the functionality of a parent class method without completely rewriting it.\n",
        "Method Resolution Order (MRO):\n",
        "In cases of multiple inheritance, where a class inherits from multiple parent classes, super() helps navigate the inheritance hierarchy based on the MRO.\n",
        "Code Reusability:\n",
        "By using super(), you can reuse code from the parent class, reducing redundancy and making your code more maintainable.\n",
        "Flexibility:\n",
        "super() can be used to call any method from the parent class, not just the __init__ method.\n",
        "Dynamic:\n",
        "super() is dynamic, meaning that it adapts to the inheritance structure at runtime. This allows for more flexibility in class design.\n"
      ],
      "metadata": {
        "id": "ZWV5E9NoknXQ"
      }
    },
    {
      "cell_type": "markdown",
      "source": [
        "# What is the significance of the __del__ method in Python\n",
        "\n",
        "> The __del__ method in Python is a special method, also known as a destructor. It is automatically called when an object is about to be destroyed, typically when it's no longer referenced and is being garbage collected.\n",
        "Key Points:\n",
        "Purpose:\n",
        "The primary use of __del__ is to perform cleanup operations before an object is deallocated. This could involve releasing external resources like file handles, network connections, or any other resources that the object might be holding.\n",
        "Garbage Collection:\n",
        "Python's garbage collector manages memory automatically. When an object's reference count drops to zero, it becomes eligible for garbage collection, and that's when __del__ is invoked.\n",
        "Not Guaranteed:\n",
        "It's important to note that the __del__ method is not guaranteed to be called in all cases. For example, if there are circular references, the garbage collector might not be able to detect that the objects are no longer needed. Additionally, __del__ may not be called when the interpreter exits.\n",
        "Avoid Relying on __del__:\n",
        "Due to its unpredictable nature, it's generally recommended to avoid relying on __del__ for critical cleanup tasks. Instead, it's better to use context managers (with statements) or explicitly close resources when they are no longer needed. This ensures that resources are released promptly and reliably.\n",
        "Example:\n",
        "Python\n",
        "\n",
        "class MyClass:\n",
        "    def __init__(self, name):\n",
        "        self.name = name\n",
        "        print(f\"Object {self.name} created\")\n",
        "\n",
        "    def __del__(self):\n",
        "        print(f\"Object {self.name} destroyed\")\n",
        "\n",
        "obj1 = MyClass(\"obj1\")\n",
        "obj2 = MyClass(\"obj2\")\n",
        "del obj1 # __del__ method will be called when obj1 is deleted\n",
        "\n"
      ],
      "metadata": {
        "id": "f_Jv4AYTlZYN"
      }
    },
    {
      "cell_type": "markdown",
      "source": [
        "# What is the difference between @staticmethod and @classmethod in Python\n",
        "\n",
        "> @staticmethod\n",
        "No implicit binding:\n",
        "Static methods do not receive the class instance (self) or the class itself (cls) as their first argument. They are essentially regular functions that are defined within the class's scope.\n",
        "No access to class or instance attributes:\n",
        "They cannot directly access or modify class-level or instance-level attributes.\n",
        "Use case:\n",
        "They are used for utility functions that are logically related to the class but don't need to interact with specific instances or class attributes.\n",
        "@classmethod\n",
        "Class binding: Class methods automatically receive the class itself (cls) as their first argument.\n",
        "Access to class attributes: They can access and modify class-level attributes.\n",
        "No direct access to instance attributes: They do not have direct access to instance attributes.\n",
        "Use case: Class methods are used for operations that involve class-level data or when implementing factory methods (alternative constructors) for creating instances of the class.\n"
      ],
      "metadata": {
        "id": "5WvvGd82lw1S"
      }
    },
    {
      "cell_type": "markdown",
      "source": [
        "#  How does polymorphism work in Python with inheritance\n",
        "\n",
        "> Polymorphism, meaning \"many forms,\" enables objects of different classes to respond to the same method call in their own specific ways. In Python, this is commonly achieved through inheritance and method overriding.\n",
        "Inheritance: A child class inherits attributes and methods from a parent class. This establishes an \"is-a\" relationship, where a child class object can be treated as a parent class object.\n",
        "Method Overriding: A child class can redefine a method inherited from its parent class. This allows the child class to provide a specialized implementation of the method, tailored to its specific needs."
      ],
      "metadata": {
        "id": "g_MPiwdymJeu"
      }
    },
    {
      "cell_type": "markdown",
      "source": [
        "# What is method chaining in Python OOP\n",
        "\n",
        "> Method chaining in Python is a programming technique where multiple methods are called sequentially on the same object in a single line of code. It enhances code readability and conciseness.\n"
      ],
      "metadata": {
        "id": "Hyu0s0f8mdij"
      }
    },
    {
      "cell_type": "markdown",
      "source": [
        "# What is the purpose of the __call__ method in Python?\n",
        "\n",
        "> Defining the Method:\n",
        "You implement the __call__ method within your class, defining the code that should execute when an instance of the class is called.\n",
        "Calling Instances:\n",
        "Once you have an instance of the class, you can use the parentheses syntax () to call it, just like you would call a function.\n",
        "Function-like Behavior:\n",
        "Python will execute the code inside the __call__ method when the instance is called, allowing you to customize the behavior of your objects.\n",
        "Flexibility and Customization:\n",
        "The __call__ method provides flexibility in how your objects behave when called. You can define different actions, calculations, or state changes within this method.\n"
      ],
      "metadata": {
        "id": "nGTIyLV9m43o"
      }
    },
    {
      "cell_type": "markdown",
      "source": [
        "# Practical Question"
      ],
      "metadata": {
        "id": "AXJUOTT9nHgl"
      }
    },
    {
      "cell_type": "code",
      "execution_count": null,
      "metadata": {
        "id": "W4PU94mZVZxa"
      },
      "outputs": [],
      "source": [
        "# Create a parent class Animal with a method speak() that prints a generic message. Create a child class Dog that overrides the speak() method to print \"Bark!\".\n",
        "\n",
        "\n"
      ]
    },
    {
      "cell_type": "code",
      "source": [],
      "metadata": {
        "id": "z0Lymso4Y81U"
      },
      "execution_count": null,
      "outputs": []
    },
    {
      "cell_type": "code",
      "metadata": {
        "id": "f94bdb22"
      },
      "source": [],
      "execution_count": 3,
      "outputs": []
    },
    {
      "cell_type": "code",
      "source": [],
      "metadata": {
        "id": "TkOGDOhmnjQj"
      },
      "execution_count": null,
      "outputs": []
    },
    {
      "cell_type": "code",
      "metadata": {
        "id": "6c5a3cc7"
      },
      "source": [],
      "execution_count": null,
      "outputs": []
    },
    {
      "cell_type": "code",
      "metadata": {
        "id": "06e6e89a"
      },
      "source": [
        "class Vehicle:\n",
        "    def __init__(self, make, model):\n",
        "        self.make = make\n",
        "        self.model = model\n",
        "\n",
        "    def display_info(self):\n",
        "        print(f\"Vehicle: {self.make} {self.model}\")\n",
        "\n",
        "class Car(Vehicle):\n",
        "    def __init__(self, make, model, year):\n",
        "        super().__init__(make, model)\n",
        "        self.year = year\n",
        "\n",
        "    def display_info(self):\n",
        "        super().display_info() # Call the parent class's display_info method\n",
        "        print(f\"Year: {self.year}\")\n",
        "\n",
        "    def honk(self):\n",
        "        print(\"Honk! Honk!\")"
      ],
      "execution_count": 5,
      "outputs": []
    },
    {
      "cell_type": "code",
      "metadata": {
        "colab": {
          "base_uri": "https://localhost:8080/"
        },
        "id": "f11e3099",
        "outputId": "61e605a5-cb8e-4ab0-bd14-7f42e6b1f263"
      },
      "source": [
        "# Create an instance of the Car class\n",
        "my_car = Car(\"Toyota\", \"Camry\", 2022)\n",
        "\n",
        "# Call the display_info method (overridden in Car)\n",
        "my_car.display_info()\n",
        "\n",
        "# Call the honk method (specific to Car)\n",
        "my_car.honk()"
      ],
      "execution_count": 6,
      "outputs": [
        {
          "output_type": "stream",
          "name": "stdout",
          "text": [
            "Vehicle: Toyota Camry\n",
            "Year: 2022\n",
            "Honk! Honk!\n"
          ]
        }
      ]
    },
    {
      "cell_type": "code",
      "source": [
        "# Write a program to create an abstract class Shape with a method area(). Derive classes Circle and Rectangle from it and implement the area() method in both.\n",
        "\n",
        "\n"
      ],
      "metadata": {
        "id": "zWam1fSDoT6J"
      },
      "execution_count": null,
      "outputs": []
    },
    {
      "cell_type": "code",
      "metadata": {
        "id": "36fa7ec4"
      },
      "source": [
        "from abc import ABC, abstractmethod\n",
        "\n",
        "class Shape(ABC):\n",
        "    @abstractmethod\n",
        "    def area(self):\n",
        "        pass\n",
        "\n",
        "class Circle(Shape):\n",
        "    def __init__(self, radius):\n",
        "        self.radius = radius\n",
        "\n",
        "    def area(self):\n",
        "        return 3.14159 * self.radius**2\n",
        "\n",
        "class Rectangle(Shape):\n",
        "    def __init__(self, width, height):\n",
        "        self.width = width\n",
        "        self.height = height\n",
        "\n",
        "    def area(self):\n",
        "        return self.width * self.height"
      ],
      "execution_count": 7,
      "outputs": []
    },
    {
      "cell_type": "code",
      "metadata": {
        "colab": {
          "base_uri": "https://localhost:8080/"
        },
        "id": "6b0f00e0",
        "outputId": "a32ffadc-76d3-439d-f979-ba782d8930f6"
      },
      "source": [
        "# Create instances of Circle and Rectangle\n",
        "circle = Circle(5)\n",
        "rectangle = Rectangle(4, 6)\n",
        "\n",
        "# Calculate and print the areas\n",
        "print(f\"Area of Circle: {circle.area()}\")\n",
        "print(f\"Area of Rectangle: {rectangle.area()}\")"
      ],
      "execution_count": 8,
      "outputs": [
        {
          "output_type": "stream",
          "name": "stdout",
          "text": [
            "Area of Circle: 78.53975\n",
            "Area of Rectangle: 24\n"
          ]
        }
      ]
    },
    {
      "cell_type": "code",
      "source": [
        "# Implement a multi-level inheritance scenario where a class Vehicle has an attribute type. Derive a class Car and further derive a class ElectricCar that adds a battery attribute.\n",
        "\n",
        "\n"
      ],
      "metadata": {
        "id": "l7swu36moruT"
      },
      "execution_count": null,
      "outputs": []
    },
    {
      "cell_type": "code",
      "metadata": {
        "id": "1d83f545"
      },
      "source": [
        "class Vehicle:\n",
        "    def __init__(self, vehicle_type):\n",
        "        self.vehicle_type = vehicle_type\n",
        "\n",
        "    def display_type(self):\n",
        "        print(f\"Vehicle Type: {self.vehicle_type}\")\n",
        "\n",
        "class Car(Vehicle):\n",
        "    def __init__(self, vehicle_type, make, model):\n",
        "        super().__init__(vehicle_type)\n",
        "        self.make = make\n",
        "        self.model = model\n",
        "\n",
        "    def display_car_info(self):\n",
        "        self.display_type() # Inherited from Vehicle\n",
        "        print(f\"Make: {self.make}, Model: {self.model}\")\n",
        "\n",
        "class ElectricCar(Car):\n",
        "    def __init__(self, vehicle_type, make, model, battery_capacity):\n",
        "        super().__init__(vehicle_type, make, model)\n",
        "        self.battery_capacity = battery_capacity\n",
        "\n",
        "    def display_electric_car_info(self):\n",
        "        self.display_car_info() # Inherited from Car\n",
        "        print(f\"Battery Capacity: {self.battery_capacity} kWh\")"
      ],
      "execution_count": 9,
      "outputs": []
    },
    {
      "cell_type": "code",
      "metadata": {
        "colab": {
          "base_uri": "https://localhost:8080/"
        },
        "id": "49deeef3",
        "outputId": "61293210-0873-4b7a-94d9-dc159f579677"
      },
      "source": [
        "# Create an instance of the ElectricCar class\n",
        "my_electric_car = ElectricCar(\"Electric Car\", \"Tesla\", \"Model 3\", 75)\n",
        "\n",
        "# Access and display information using methods from different levels of inheritance\n",
        "my_electric_car.display_electric_car_info()"
      ],
      "execution_count": 10,
      "outputs": [
        {
          "output_type": "stream",
          "name": "stdout",
          "text": [
            "Vehicle Type: Electric Car\n",
            "Make: Tesla, Model: Model 3\n",
            "Battery Capacity: 75 kWh\n"
          ]
        }
      ]
    },
    {
      "cell_type": "code",
      "source": [
        "# Demonstrate polymorphism by creating a base class Bird with a method fly(). Create two derived classes Sparrow and Penguin that override the fly() method.\n"
      ],
      "metadata": {
        "id": "oR3EbLhIpE1U"
      },
      "execution_count": null,
      "outputs": []
    },
    {
      "cell_type": "code",
      "metadata": {
        "id": "c2df4e5e"
      },
      "source": [
        "class Bird:\n",
        "    def fly(self):\n",
        "        print(\"Most birds can fly.\")\n",
        "\n",
        "class Sparrow(Bird):\n",
        "    def fly(self):\n",
        "        print(\"Sparrows can fly short distances quickly.\")\n",
        "\n",
        "class Penguin(Bird):\n",
        "    def fly(self):\n",
        "        print(\"Penguins cannot fly, but they are excellent swimmers.\")"
      ],
      "execution_count": 11,
      "outputs": []
    },
    {
      "cell_type": "code",
      "metadata": {
        "colab": {
          "base_uri": "https://localhost:8080/"
        },
        "id": "2b94b07b",
        "outputId": "a8fd9bd7-19fd-4532-e0bc-fb018a38925d"
      },
      "source": [
        "# Create instances of the classes\n",
        "bird = Bird()\n",
        "sparrow = Sparrow()\n",
        "penguin = Penguin()\n",
        "\n",
        "# Call the fly method for each instance\n",
        "bird.fly()\n",
        "sparrow.fly()\n",
        "penguin.fly()"
      ],
      "execution_count": 12,
      "outputs": [
        {
          "output_type": "stream",
          "name": "stdout",
          "text": [
            "Most birds can fly.\n",
            "Sparrows can fly short distances quickly.\n",
            "Penguins cannot fly, but they are excellent swimmers.\n"
          ]
        }
      ]
    },
    {
      "cell_type": "code",
      "source": [
        "# Write a program to demonstrate encapsulation by creating a class BankAccount with private attributes balance and methods to deposit, withdraw, and check balance.\n",
        "\n",
        "\n"
      ],
      "metadata": {
        "id": "epitjsTWpZqS"
      },
      "execution_count": null,
      "outputs": []
    },
    {
      "cell_type": "code",
      "metadata": {
        "id": "bdc6d0b6"
      },
      "source": [
        "class BankAccount:\n",
        "    def __init__(self, initial_balance=0):\n",
        "        # Private attribute (conventionally indicated by __)\n",
        "        self.__balance = initial_balance\n",
        "\n",
        "    def deposit(self, amount):\n",
        "        if amount > 0:\n",
        "            self.__balance += amount\n",
        "            print(f\"Deposited: ${amount}. New balance: ${self.__balance}\")\n",
        "        else:\n",
        "            print(\"Deposit amount must be positive.\")\n",
        "\n",
        "    def withdraw(self, amount):\n",
        "        if 0 < amount <= self.__balance:\n",
        "            self.__balance -= amount\n",
        "            print(f\"Withdrew: ${amount}. New balance: ${self.__balance}\")\n",
        "        elif amount > self.__balance:\n",
        "            print(\"Insufficient funds.\")\n",
        "        else:\n",
        "            print(\"Withdrawal amount must be positive.\")\n",
        "\n",
        "    def check_balance(self):\n",
        "        print(f\"Current balance: ${self.__balance}\")"
      ],
      "execution_count": 13,
      "outputs": []
    },
    {
      "cell_type": "code",
      "metadata": {
        "colab": {
          "base_uri": "https://localhost:8080/"
        },
        "id": "0d9fc220",
        "outputId": "070f84be-27fb-4472-a1a8-440961bd6f97"
      },
      "source": [
        "# Create an instance of the BankAccount class\n",
        "account = BankAccount(1000)\n",
        "\n",
        "# Check the initial balance\n",
        "account.check_balance()\n",
        "\n",
        "# Deposit some money\n",
        "account.deposit(500)\n",
        "\n",
        "# Withdraw some money\n",
        "account.withdraw(200)\n",
        "\n",
        "# Try to withdraw more than the balance\n",
        "account.withdraw(1500)\n",
        "\n",
        "# Check the final balance\n",
        "account.check_balance()"
      ],
      "execution_count": 14,
      "outputs": [
        {
          "output_type": "stream",
          "name": "stdout",
          "text": [
            "Current balance: $1000\n",
            "Deposited: $500. New balance: $1500\n",
            "Withdrew: $200. New balance: $1300\n",
            "Insufficient funds.\n",
            "Current balance: $1300\n"
          ]
        }
      ]
    },
    {
      "cell_type": "code",
      "source": [
        "\n",
        "#  Demonstrate runtime polymorphism using a method play() in a base class Instrument. Derive classes Guitar and Piano that implement their own version of play().\n",
        "\n"
      ],
      "metadata": {
        "id": "ink9l3FppuED"
      },
      "execution_count": null,
      "outputs": []
    },
    {
      "cell_type": "code",
      "metadata": {
        "id": "15b5deb7"
      },
      "source": [
        "class Instrument:\n",
        "    def play(self):\n",
        "        print(\"Playing an instrument sound\")\n",
        "\n",
        "class Guitar(Instrument):\n",
        "    def play(self):\n",
        "        print(\"Strumming the guitar\")\n",
        "\n",
        "class Piano(Instrument):\n",
        "    def play(self):\n",
        "        print(\"Playing the piano keys\")"
      ],
      "execution_count": 15,
      "outputs": []
    },
    {
      "cell_type": "code",
      "metadata": {
        "colab": {
          "base_uri": "https://localhost:8080/"
        },
        "id": "17054e67",
        "outputId": "f23caddc-bd47-4e47-c506-2e51b406956f"
      },
      "source": [
        "# Create instances of the classes\n",
        "instrument = Instrument()\n",
        "guitar = Guitar()\n",
        "piano = Piano()\n",
        "\n",
        "# Call the play method for each instance\n",
        "instrument.play()\n",
        "guitar.play()\n",
        "piano.play()"
      ],
      "execution_count": 16,
      "outputs": [
        {
          "output_type": "stream",
          "name": "stdout",
          "text": [
            "Playing an instrument sound\n",
            "Strumming the guitar\n",
            "Playing the piano keys\n"
          ]
        }
      ]
    },
    {
      "cell_type": "code",
      "source": [
        "#  Create a class MathOperations with a class method add_numbers() to add two numbers and a static method subtract_numbers() to subtract two numbers.\n",
        "\n",
        "\n"
      ],
      "metadata": {
        "id": "5R5mQ9TmqCNQ"
      },
      "execution_count": null,
      "outputs": []
    },
    {
      "cell_type": "code",
      "metadata": {
        "id": "88b57b11"
      },
      "source": [
        "class MathOperations:\n",
        "    @classmethod\n",
        "    def add_numbers(cls, x, y):\n",
        "        return x + y\n",
        "\n",
        "    @staticmethod\n",
        "    def subtract_numbers(x, y):\n",
        "        return x - y"
      ],
      "execution_count": 17,
      "outputs": []
    },
    {
      "cell_type": "code",
      "metadata": {
        "colab": {
          "base_uri": "https://localhost:8080/"
        },
        "id": "ee12c88e",
        "outputId": "1ee6db9f-8196-48cd-b7c3-dab20dd8a62a"
      },
      "source": [
        "# Call the class method using the class name\n",
        "sum_result = MathOperations.add_numbers(10, 5)\n",
        "print(f\"Sum using class method: {sum_result}\")\n",
        "\n",
        "# Call the static method using the class name\n",
        "difference_result = MathOperations.subtract_numbers(10, 5)\n",
        "print(f\"Difference using static method: {difference_result}\")\n",
        "\n",
        "# You can also call static methods on an instance, but it's more common to use the class name\n",
        "# math_instance = MathOperations()\n",
        "# difference_result_instance = math_instance.subtract_numbers(10, 5)\n",
        "# print(f\"Difference using static method on instance: {difference_result_instance}\")"
      ],
      "execution_count": 18,
      "outputs": [
        {
          "output_type": "stream",
          "name": "stdout",
          "text": [
            "Sum using class method: 15\n",
            "Difference using static method: 5\n"
          ]
        }
      ]
    },
    {
      "cell_type": "code",
      "source": [
        "#  Implement a class Person with a class method to count the total number of persons created.\n",
        "\n",
        "\n"
      ],
      "metadata": {
        "id": "t4lrZopiqeKY"
      },
      "execution_count": 20,
      "outputs": []
    },
    {
      "cell_type": "code",
      "metadata": {
        "colab": {
          "base_uri": "https://localhost:8080/"
        },
        "id": "1ae38a09",
        "outputId": "55ab7bff-1216-4b2b-fec3-92b80285ab10"
      },
      "source": [
        "class Person:\n",
        "    # Class-level attribute to count instances\n",
        "    count = 0\n",
        "\n",
        "    def __init__(self, name):\n",
        "        self.name = name\n",
        "        # Increment the class count when a new instance is created\n",
        "        Person.count += 1\n",
        "\n",
        "    @classmethod\n",
        "    def get_person_count(cls):\n",
        "        return cls.count\n",
        "\n",
        "# Create instances of the Person class\n",
        "person1 = Person(\"Alice\")\n",
        "person2 = Person(\"Bob\")\n",
        "person3 = Person(\"Charlie\")\n",
        "\n",
        "# Get the total number of persons created using the class method\n",
        "total_persons = Person.get_person_count()\n",
        "print(f\"Total number of persons created: {total_persons}\")"
      ],
      "execution_count": 19,
      "outputs": [
        {
          "output_type": "stream",
          "name": "stdout",
          "text": [
            "Total number of persons created: 3\n"
          ]
        }
      ]
    },
    {
      "cell_type": "code",
      "source": [
        "# Write a class Fraction with attributes numerator and denominator. Override the str method to display the fraction as \"numerator/denominator\".\n",
        "\n"
      ],
      "metadata": {
        "id": "hqXz39zHrgDr"
      },
      "execution_count": null,
      "outputs": []
    },
    {
      "cell_type": "code",
      "metadata": {
        "colab": {
          "base_uri": "https://localhost:8080/"
        },
        "id": "566945a7",
        "outputId": "b8cfdbb9-b9b2-4902-8245-5e940bda6263"
      },
      "source": [
        "class Fraction:\n",
        "    def __init__(self, numerator, denominator):\n",
        "        self.numerator = numerator\n",
        "        self.denominator = denominator\n",
        "\n",
        "    def __str__(self):\n",
        "        return f\"{self.numerator}/{self.denominator}\"\n",
        "\n",
        "# Create an instance of the Fraction class\n",
        "my_fraction = Fraction(3, 4)\n",
        "\n",
        "# Print the object, which will call the __str__ method\n",
        "print(my_fraction)"
      ],
      "execution_count": 21,
      "outputs": [
        {
          "output_type": "stream",
          "name": "stdout",
          "text": [
            "3/4\n"
          ]
        }
      ]
    },
    {
      "cell_type": "code",
      "source": [
        "# Demonstrate operator overloading by creating a class Vector and overriding the add method to add two vectors.\n",
        "\n"
      ],
      "metadata": {
        "id": "h_480X9Qr4wZ"
      },
      "execution_count": null,
      "outputs": []
    },
    {
      "cell_type": "code",
      "metadata": {
        "colab": {
          "base_uri": "https://localhost:8080/"
        },
        "id": "ea63c6e8",
        "outputId": "9d95b3b2-612b-4de9-f2e3-b1ffc6cc2eed"
      },
      "source": [
        "class Vector:\n",
        "    def __init__(self, x, y):\n",
        "        self.x = x\n",
        "        self.y = y\n",
        "\n",
        "    def __str__(self):\n",
        "        return f\"({self.x}, {self.y})\"\n",
        "\n",
        "    def __add__(self, other):\n",
        "        if isinstance(other, Vector):\n",
        "            return Vector(self.x + other.x, self.y + other.y)\n",
        "        else:\n",
        "            raise TypeError(\"Can only add a Vector object to another Vector object\")\n",
        "\n",
        "# Create two Vector objects\n",
        "vector1 = Vector(2, 3)\n",
        "vector2 = Vector(4, 1)\n",
        "\n",
        "# Add the two vectors using the + operator\n",
        "vector3 = vector1 + vector2\n",
        "\n",
        "# Print the resulting vector\n",
        "print(vector3)"
      ],
      "execution_count": 22,
      "outputs": [
        {
          "output_type": "stream",
          "name": "stdout",
          "text": [
            "(6, 4)\n"
          ]
        }
      ]
    },
    {
      "cell_type": "code",
      "source": [
        "# Create a class Person with attributes name and age. Add a method greet() that prints \"Hello, my name is {name} and I am {age} years old.\"\n",
        "\n",
        "\n"
      ],
      "metadata": {
        "id": "DpdnOpvGuME1"
      },
      "execution_count": null,
      "outputs": []
    },
    {
      "cell_type": "code",
      "metadata": {
        "colab": {
          "base_uri": "https://localhost:8080/"
        },
        "id": "5214dc92",
        "outputId": "fdbace6c-a799-49d0-bc91-9fad1d26faf8"
      },
      "source": [
        "class Person:\n",
        "    def __init__(self, name, age):\n",
        "        self.name = name\n",
        "        self.age = age\n",
        "\n",
        "    def greet(self):\n",
        "        print(f\"Hello, my name is {self.name} and I am {self.age} years old.\")\n",
        "\n",
        "# Create an instance of the Person class\n",
        "person1 = Person(\"Alice\", 30)\n",
        "\n",
        "# Call the greet method\n",
        "person1.greet()"
      ],
      "execution_count": 23,
      "outputs": [
        {
          "output_type": "stream",
          "name": "stdout",
          "text": [
            "Hello, my name is Alice and I am 30 years old.\n"
          ]
        }
      ]
    },
    {
      "cell_type": "code",
      "source": [
        "# Implement a class Student with attributes name and grades. Create a method average_grade() to compute the average of the grades"
      ],
      "metadata": {
        "id": "thg3eJ_PunXZ"
      },
      "execution_count": null,
      "outputs": []
    },
    {
      "cell_type": "code",
      "metadata": {
        "colab": {
          "base_uri": "https://localhost:8080/"
        },
        "id": "57f67618",
        "outputId": "63f53c08-0d09-42a7-dd31-35da649cdfd3"
      },
      "source": [
        "class Student:\n",
        "    def __init__(self, name, grades):\n",
        "        self.name = name\n",
        "        self.grades = grades\n",
        "\n",
        "    def average_grade(self):\n",
        "        if not self.grades:  # Handle the case of an empty grades list\n",
        "            return 0\n",
        "        return sum(self.grades) / len(self.grades)\n",
        "\n",
        "# Create an instance of the Student class\n",
        "student1 = Student(\"Alice\", [85, 90, 78, 92])\n",
        "\n",
        "# Calculate and print the average grade\n",
        "average = student1.average_grade()\n",
        "print(f\"{student1.name}'s average grade is: {average}\")\n",
        "\n",
        "# Example with no grades\n",
        "student2 = Student(\"Bob\", [])\n",
        "average_bob = student2.average_grade()\n",
        "print(f\"{student2.name}'s average grade is: {average_bob}\")"
      ],
      "execution_count": 24,
      "outputs": [
        {
          "output_type": "stream",
          "name": "stdout",
          "text": [
            "Alice's average grade is: 86.25\n",
            "Bob's average grade is: 0\n"
          ]
        }
      ]
    },
    {
      "cell_type": "code",
      "source": [
        "# Create a class Rectangle with methods set_dimensions() to set the dimensions and area() to calculate the area.\n",
        "\n"
      ],
      "metadata": {
        "id": "F0n7E13rvVSk"
      },
      "execution_count": null,
      "outputs": []
    },
    {
      "cell_type": "code",
      "metadata": {
        "colab": {
          "base_uri": "https://localhost:8080/"
        },
        "id": "9fbd2be8",
        "outputId": "8a57064e-0397-44a5-9305-40955f2b4ebd"
      },
      "source": [
        "class Rectangle:\n",
        "    def __init__(self, width=0, height=0):\n",
        "        self.width = width\n",
        "        self.height = height\n",
        "\n",
        "    def set_dimensions(self, width, height):\n",
        "        self.width = width\n",
        "        self.height = height\n",
        "\n",
        "    def area(self):\n",
        "        return self.width * self.height\n",
        "\n",
        "# Create an instance of the Rectangle class\n",
        "rectangle = Rectangle()\n",
        "\n",
        "# Set dimensions using the set_dimensions method\n",
        "rectangle.set_dimensions(10, 5)\n",
        "\n",
        "# Calculate and print the area\n",
        "print(f\"The area of the rectangle is: {rectangle.area()}\")\n",
        "\n",
        "# Create another instance and set dimensions during initialization\n",
        "rectangle2 = Rectangle(7, 3)\n",
        "print(f\"The area of the second rectangle is: {rectangle2.area()}\")"
      ],
      "execution_count": 25,
      "outputs": [
        {
          "output_type": "stream",
          "name": "stdout",
          "text": [
            "The area of the rectangle is: 50\n",
            "The area of the second rectangle is: 21\n"
          ]
        }
      ]
    },
    {
      "cell_type": "code",
      "source": [
        "# Create a class Employee with a method calculate_salary() that computes the salary based on hours worked and hourly rate. Create a derived class Manager that adds a bonus to the salary."
      ],
      "metadata": {
        "id": "CYRG1PZ3vtxs"
      },
      "execution_count": null,
      "outputs": []
    },
    {
      "cell_type": "code",
      "metadata": {
        "colab": {
          "base_uri": "https://localhost:8080/"
        },
        "id": "416426a9",
        "outputId": "c941d967-01c7-4064-f782-1dce67583f85"
      },
      "source": [
        "class Employee:\n",
        "    def __init__(self, name, hours_worked, hourly_rate):\n",
        "        self.name = name\n",
        "        self.hours_worked = hours_worked\n",
        "        self.hourly_rate = hourly_rate\n",
        "\n",
        "    def calculate_salary(self):\n",
        "        return self.hours_worked * self.hourly_rate\n",
        "\n",
        "class Manager(Employee):\n",
        "    def __init__(self, name, hours_worked, hourly_rate, bonus):\n",
        "        super().__init__(name, hours_worked, hourly_rate)\n",
        "        self.bonus = bonus\n",
        "\n",
        "    def calculate_salary(self):\n",
        "        base_salary = super().calculate_salary() # Call the parent class's method\n",
        "        return base_salary + self.bonus\n",
        "\n",
        "# Create instances of the classes\n",
        "employee = Employee(\"Alice\", 40, 20)\n",
        "manager = Manager(\"Bob\", 40, 25, 1000)\n",
        "\n",
        "# Calculate and print salaries\n",
        "print(f\"{employee.name}'s salary: ${employee.calculate_salary()}\")\n",
        "print(f\"{manager.name}'s salary: ${manager.calculate_salary()}\")"
      ],
      "execution_count": 26,
      "outputs": [
        {
          "output_type": "stream",
          "name": "stdout",
          "text": [
            "Alice's salary: $800\n",
            "Bob's salary: $2000\n"
          ]
        }
      ]
    },
    {
      "cell_type": "code",
      "source": [],
      "metadata": {
        "id": "uaBsnpYkwrt6"
      },
      "execution_count": null,
      "outputs": []
    }
  ]
}